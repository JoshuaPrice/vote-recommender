{
 "cells": [
  {
   "cell_type": "code",
   "execution_count": 63,
   "metadata": {},
   "outputs": [],
   "source": [
    "import pandas as pd\n",
    "import matplotlib.pyplot as plt\n",
    "import seaborn as sns"
   ]
  },
  {
   "cell_type": "code",
   "execution_count": 4,
   "metadata": {},
   "outputs": [],
   "source": [
    "# here only for testing\n",
    "summ16 = pd.read_csv('webl16.txt',sep='|',header=None)\n",
    "# WebL Data Dictionary Format\n",
    "summ16.columns = ['ID','Name','Incumbent','Party Code','Party','Total Receipts','From PACs', \n",
    "              'Disbursements','To PACs','Beginning $','End $','From Candidate','Loans From Candidate',\n",
    "              'Other Loans','Candidate Loan Repayments','Other Loan Repayments','Debt Amount',\n",
    "              'Individual Contributions','State','District','Special Election','Primary Election',\n",
    "              'Runoff Election','General Election','General Election %','From Other PACs',\n",
    "              'From Party','End Date','Refunds to Individuals','Refunds to Committees']\n",
    "# Top fundraisers in the Senate\n",
    "allSenate16 = summ16[(summ16['District']==0.0) & (summ16['State']!='00')].sort_values('Total Receipts',ascending=False)\n",
    "senate16 = allSenate16[allSenate16['Total Receipts'] > 0.0]"
   ]
  },
  {
   "cell_type": "code",
   "execution_count": 45,
   "metadata": {},
   "outputs": [],
   "source": [
    "def getCandWithName(name, s):\n",
    "    # name: desired name\n",
    "    # s: series with all possible names\n",
    "    # returns dataframe with candidate(s) who have name within their full name\n",
    "    \n",
    "    # get name parts and make upper case\n",
    "    nameParts = name.upper().split(' ')\n",
    "    \n",
    "    # for each name, generate series of matching names\n",
    "    matches = []\n",
    "    for subname in nameParts:\n",
    "        namesBool = s['Name'].str.contains(subname)\n",
    "        # print(s[namesBool].index)\n",
    "        matches.append(set(s[namesBool].index))\n",
    "    \n",
    "    intersectingSet = list(set.intersection(*matches))\n",
    "    \n",
    "    return s.loc[intersectingSet]"
   ]
  },
  {
   "cell_type": "code",
   "execution_count": 52,
   "metadata": {},
   "outputs": [
    {
     "data": {
      "text/html": [
       "<div>\n",
       "<style scoped>\n",
       "    .dataframe tbody tr th:only-of-type {\n",
       "        vertical-align: middle;\n",
       "    }\n",
       "\n",
       "    .dataframe tbody tr th {\n",
       "        vertical-align: top;\n",
       "    }\n",
       "\n",
       "    .dataframe thead th {\n",
       "        text-align: right;\n",
       "    }\n",
       "</style>\n",
       "<table border=\"1\" class=\"dataframe\">\n",
       "  <thead>\n",
       "    <tr style=\"text-align: right;\">\n",
       "      <th></th>\n",
       "      <th>ID</th>\n",
       "      <th>Name</th>\n",
       "      <th>Incumbent</th>\n",
       "      <th>Party Code</th>\n",
       "      <th>Party</th>\n",
       "      <th>Total Receipts</th>\n",
       "      <th>From PACs</th>\n",
       "      <th>Disbursements</th>\n",
       "      <th>To PACs</th>\n",
       "      <th>Beginning $</th>\n",
       "      <th>...</th>\n",
       "      <th>Special Election</th>\n",
       "      <th>Primary Election</th>\n",
       "      <th>Runoff Election</th>\n",
       "      <th>General Election</th>\n",
       "      <th>General Election %</th>\n",
       "      <th>From Other PACs</th>\n",
       "      <th>From Party</th>\n",
       "      <th>End Date</th>\n",
       "      <th>Refunds to Individuals</th>\n",
       "      <th>Refunds to Committees</th>\n",
       "    </tr>\n",
       "  </thead>\n",
       "  <tbody>\n",
       "    <tr>\n",
       "      <th>1687</th>\n",
       "      <td>S6CA00584</td>\n",
       "      <td>HARRIS, KAMALA D</td>\n",
       "      <td>O</td>\n",
       "      <td>1</td>\n",
       "      <td>DEM</td>\n",
       "      <td>15349610.0</td>\n",
       "      <td>934112.0</td>\n",
       "      <td>14420725.0</td>\n",
       "      <td>5400.0</td>\n",
       "      <td>0.0</td>\n",
       "      <td>...</td>\n",
       "      <td>NaN</td>\n",
       "      <td>NaN</td>\n",
       "      <td>NaN</td>\n",
       "      <td>NaN</td>\n",
       "      <td>NaN</td>\n",
       "      <td>865472.0</td>\n",
       "      <td>0.0</td>\n",
       "      <td>12/31/2016</td>\n",
       "      <td>268635.0</td>\n",
       "      <td>3175.0</td>\n",
       "    </tr>\n",
       "  </tbody>\n",
       "</table>\n",
       "<p>1 rows × 30 columns</p>\n",
       "</div>"
      ],
      "text/plain": [
       "             ID              Name Incumbent  Party Code Party  Total Receipts  \\\n",
       "1687  S6CA00584  HARRIS, KAMALA D         O           1   DEM      15349610.0   \n",
       "\n",
       "      From PACs  Disbursements  To PACs  Beginning $          ...            \\\n",
       "1687   934112.0     14420725.0   5400.0          0.0          ...             \n",
       "\n",
       "      Special Election  Primary Election  Runoff Election  General Election  \\\n",
       "1687               NaN               NaN              NaN               NaN   \n",
       "\n",
       "      General Election %  From Other PACs  From Party    End Date  \\\n",
       "1687                 NaN         865472.0         0.0  12/31/2016   \n",
       "\n",
       "     Refunds to Individuals  Refunds to Committees  \n",
       "1687               268635.0                 3175.0  \n",
       "\n",
       "[1 rows x 30 columns]"
      ]
     },
     "execution_count": 52,
     "metadata": {},
     "output_type": "execute_result"
    }
   ],
   "source": [
    "name = 'Kamala'\n",
    "getCandWithName(name, summ16)"
   ]
  },
  {
   "cell_type": "code",
   "execution_count": 59,
   "metadata": {},
   "outputs": [],
   "source": [
    "def get(cand, allcands, quant='Total Receipts'):\n",
    "    # cand: last name or list of last names\n",
    "    # infotype: quantitative info desired (total receipts, from pacs, etc)\n",
    "    # returns desired quantity: single value if only one matching name, numpy list if multiple\n",
    "    \n",
    "    desQuant = getCandWithName(cand, allcands)[quant].values\n",
    "    \n",
    "    if len(desQuant) == 1:\n",
    "        return desQuant[0]\n",
    "    else:\n",
    "        return desQuant"
   ]
  },
  {
   "cell_type": "code",
   "execution_count": 65,
   "metadata": {},
   "outputs": [
    {
     "data": {
      "text/plain": [
       "1986833.43"
      ]
     },
     "execution_count": 65,
     "metadata": {},
     "output_type": "execute_result"
    }
   ],
   "source": [
    "get('Swalwell', summ16)"
   ]
  },
  {
   "cell_type": "code",
   "execution_count": null,
   "metadata": {},
   "outputs": [],
   "source": []
  }
 ],
 "metadata": {
  "kernelspec": {
   "display_name": "Python 3",
   "language": "python",
   "name": "python3"
  },
  "language_info": {
   "codemirror_mode": {
    "name": "ipython",
    "version": 3
   },
   "file_extension": ".py",
   "mimetype": "text/x-python",
   "name": "python",
   "nbconvert_exporter": "python",
   "pygments_lexer": "ipython3",
   "version": "3.6.6"
  }
 },
 "nbformat": 4,
 "nbformat_minor": 2
}
